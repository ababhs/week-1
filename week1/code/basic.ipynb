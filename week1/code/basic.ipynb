{
 "cells": [
  {
   "cell_type": "markdown",
   "metadata": {
    "pycharm": {
     "name": "#%% md\n"
    }
   },
   "source": [
    "### python标准数据类型\n",
    "\n",
    "- Numbers 数字\n",
    "- String 字符串\n",
    "- List 列表\n",
    "- Tuple 元组\n",
    "- Dictionary 字典"
   ]
  },
  {
   "cell_type": "code",
   "execution_count": 3,
   "metadata": {
    "collapsed": true,
    "pycharm": {
     "name": "#%%\n"
    }
   },
   "outputs": [
    {
     "name": "stdout",
     "output_type": "stream",
     "text": [
      "1.1\n",
      "welcome to LUD\n",
      "[1, 2, 3, 4]\n",
      "(1, 2, 3, 4)\n",
      "{1: 'a', 2: 'b'}\n"
     ]
    }
   ],
   "source": [
    "a = 1.1\n",
    "print(a)\n",
    "b = 'welcome to LUD'\n",
    "print(b)\n",
    "c = [1, 2, 3, 4]\n",
    "print(c)\n",
    "d = (1, 2, 3, 4)\n",
    "print(d)\n",
    "e = {1:'a', 2:'b'}\n",
    "print(e)"
   ]
  },
  {
   "cell_type": "code",
   "execution_count": 5,
   "metadata": {
    "pycharm": {
     "name": "#%%\n"
    }
   },
   "outputs": [
    {
     "name": "stdout",
     "output_type": "stream",
     "text": [
      "a is a  <class 'int'>\n",
      "<class 'str'>\n",
      "<class 'list'>\n",
      "<class 'tuple'>\n",
      "<class 'dict'>\n"
     ]
    }
   ],
   "source": [
    "print('a is a ', type(a))\n",
    "print('b is a ', type(b))\n",
    "print('c is a ', type(c))\n",
    "print('d is a ', type(d))\n",
    "print('e is a ', type(e))"
   ]
  },
  {
   "cell_type": "markdown",
   "metadata": {},
   "source": [
    "### List 和 Tuple 的区别"
   ]
  },
  {
   "cell_type": "code",
   "execution_count": 4,
   "metadata": {
    "pycharm": {
     "name": "#%%\n"
    }
   },
   "outputs": [
    {
     "name": "stdout",
     "output_type": "stream",
     "text": [
      "[1, 2, 3, 4, 5]\n",
      "(1, 2, 3, 4, 5)\n",
      "[5, 2, 3, 4, 5]\n"
     ]
    },
    {
     "ename": "TypeError",
     "evalue": "'tuple' object does not support item assignment",
     "output_type": "error",
     "traceback": [
      "\u001B[1;31m---------------------------------------------------------------------------\u001B[0m",
      "\u001B[1;31mTypeError\u001B[0m                                 Traceback (most recent call last)",
      "\u001B[1;32m<ipython-input-4-894332ee973b>\u001B[0m in \u001B[0;36m<module>\u001B[1;34m\u001B[0m\n\u001B[0;32m      5\u001B[0m \u001B[0mx\u001B[0m\u001B[1;33m[\u001B[0m\u001B[1;36m0\u001B[0m\u001B[1;33m]\u001B[0m \u001B[1;33m=\u001B[0m \u001B[1;36m5\u001B[0m\u001B[1;33m\u001B[0m\u001B[1;33m\u001B[0m\u001B[0m\n\u001B[0;32m      6\u001B[0m \u001B[0mprint\u001B[0m\u001B[1;33m(\u001B[0m\u001B[0mx\u001B[0m\u001B[1;33m)\u001B[0m\u001B[1;33m\u001B[0m\u001B[1;33m\u001B[0m\u001B[0m\n\u001B[1;32m----> 7\u001B[1;33m \u001B[0my\u001B[0m\u001B[1;33m[\u001B[0m\u001B[1;36m0\u001B[0m\u001B[1;33m]\u001B[0m \u001B[1;33m=\u001B[0m \u001B[1;36m5\u001B[0m\u001B[1;33m\u001B[0m\u001B[1;33m\u001B[0m\u001B[0m\n\u001B[0m\u001B[0;32m      8\u001B[0m \u001B[0mprint\u001B[0m\u001B[1;33m(\u001B[0m\u001B[0my\u001B[0m\u001B[1;33m)\u001B[0m\u001B[1;33m\u001B[0m\u001B[1;33m\u001B[0m\u001B[0m\n\u001B[0;32m      9\u001B[0m \u001B[1;33m\u001B[0m\u001B[0m\n",
      "\u001B[1;31mTypeError\u001B[0m: 'tuple' object does not support item assignment"
     ]
    }
   ],
   "source": [
    "x = [1, 2, 3, 4, 5]\n",
    "print(x)\n",
    "y = (1, 2, 3, 4, 5)\n",
    "print(y)\n",
    "x[0] = 5\n",
    "print(x)\n",
    "y[0] = 5\n",
    "print(y)"
   ]
  },
  {
   "cell_type": "markdown",
   "metadata": {
    "pycharm": {
     "name": "#%% md\n"
    }
   },
   "source": [
    "### List 和 Tuple 的区别\n",
    "元组不允许更新，列表允许更新，元组相当于只读列表"
   ]
  },
  {
   "cell_type": "markdown",
   "metadata": {},
   "source": [
    "### List 的使用"
   ]
  },
  {
   "cell_type": "code",
   "execution_count": 9,
   "metadata": {
    "pycharm": {
     "name": "#%%\n"
    }
   },
   "outputs": [
    {
     "name": "stdout",
     "output_type": "stream",
     "text": [
      "[1, 2, 4.0, 'LUD', {1: 'a'}, [1, 2, 3]]\n"
     ]
    }
   ],
   "source": [
    "# 列表初始化以及存储的数据\n",
    "a = [1, 2, 4.0, 'LUD', {1:'a'}, [1, 2, 3]]\n",
    "print(a)"
   ]
  },
  {
   "cell_type": "code",
   "execution_count": 5,
   "metadata": {
    "pycharm": {
     "name": "#%%\n"
    }
   },
   "outputs": [
    {
     "name": "stdout",
     "output_type": "stream",
     "text": [
      "[]\n",
      "[1, 2]\n",
      "z1 is  [1, 2, [1, 2]]\n",
      "z2 is  [1, 2, 1, 2]\n"
     ]
    }
   ],
   "source": [
    "# 列表的运算\n",
    "x = []\n",
    "print(x)\n",
    "x.append(1)\n",
    "x.append(2)\n",
    "print(x)\n",
    "y = [1, 2]\n",
    "z1 = x.copy()\n",
    "z1.append(y)\n",
    "z2 = x + y\n",
    "\n",
    "print('z1 is ', z1)\n",
    "print('z2 is ', z2)\n"
   ]
  },
  {
   "cell_type": "markdown",
   "metadata": {
    "pycharm": {
     "name": "#%% md\n"
    }
   },
   "source": [
    "### Dictionary 使用"
   ]
  },
  {
   "cell_type": "code",
   "execution_count": 43,
   "metadata": {
    "pycharm": {
     "name": "#%%\n"
    }
   },
   "outputs": [
    {
     "name": "stdout",
     "output_type": "stream",
     "text": [
      "{'a': 1, 'b': 2}\n",
      "2\n",
      "{'a': 1, 'b': 2, 'c': 3}\n",
      "{'a': 4, 'b': 2, 'c': 3}\n"
     ]
    }
   ],
   "source": [
    "x = {'a': 1, 'b': 2}\n",
    "print(x)\n",
    "print(x['b'])\n",
    "x['c'] = 3\n",
    "print(x)\n",
    "x['a'] = 4\n",
    "print(x)"
   ]
  },
  {
   "cell_type": "markdown",
   "metadata": {
    "pycharm": {
     "name": "#%% md\n"
    }
   },
   "source": [
    "### set 的使用"
   ]
  },
  {
   "cell_type": "code",
   "execution_count": 41,
   "metadata": {
    "pycharm": {
     "name": "#%%\n"
    }
   },
   "outputs": [
    {
     "name": "stdout",
     "output_type": "stream",
     "text": [
      "2\n",
      "{1, '1'}\n",
      "True\n",
      "False\n"
     ]
    }
   ],
   "source": [
    "x = set()\n",
    "x.add(1)\n",
    "x.add('1')\n",
    "x.add(1)\n",
    "print(len(x))\n",
    "print(x)\n",
    "print(1 in x)\n",
    "print(2 in x)"
   ]
  },
  {
   "cell_type": "markdown",
   "metadata": {
    "pycharm": {
     "name": "#%% md\n"
    }
   },
   "source": [
    "### 运算符"
   ]
  },
  {
   "cell_type": "code",
   "execution_count": 20,
   "metadata": {
    "pycharm": {
     "name": "#%%\n"
    }
   },
   "outputs": [
    {
     "name": "stdout",
     "output_type": "stream",
     "text": [
      "3\n",
      "4\n",
      "2.5\n",
      "2\n",
      "2\n"
     ]
    }
   ],
   "source": [
    "a = 1 + 2\n",
    "print(a)\n",
    "b = 2 * 2\n",
    "print(b)\n",
    "c = 5 / 2\n",
    "print(c)\n",
    "d = 5 // 2\n",
    "print(d)\n",
    "e = 8 % 3\n",
    "print(e)\n",
    "f = 2 ** 3\n",
    "print(f)"
   ]
  },
  {
   "cell_type": "code",
   "execution_count": null,
   "metadata": {
    "pycharm": {
     "name": "#%%\n"
    }
   },
   "outputs": [],
   "source": [
    "x = 1\n",
    "x += 5\n",
    "print(x)"
   ]
  },
  {
   "cell_type": "markdown",
   "metadata": {
    "pycharm": {
     "name": "#%% md\n"
    }
   },
   "source": [
    "### 比较符"
   ]
  },
  {
   "cell_type": "code",
   "execution_count": 21,
   "metadata": {
    "pycharm": {
     "name": "#%%\n"
    }
   },
   "outputs": [
    {
     "name": "stdout",
     "output_type": "stream",
     "text": [
      "True\n",
      "False\n",
      "False\n",
      "False\n",
      "True\n",
      "False\n"
     ]
    }
   ],
   "source": [
    "print(1 == 1)\n",
    "print(1 != 1)\n",
    "print(1 > 1)\n",
    "print(1 < 1)\n",
    "print(1 <= 2)\n",
    "print(1 >= 2)"
   ]
  },
  {
   "cell_type": "markdown",
   "metadata": {
    "pycharm": {
     "name": "#%% md\n"
    }
   },
   "source": [
    "### 位运算\n",
    "与C相同"
   ]
  },
  {
   "cell_type": "markdown",
   "metadata": {
    "pycharm": {
     "name": "#%% md\n"
    }
   },
   "source": [
    "条件语句\n",
    "- if\n",
    "- elif\n",
    "- ...\n",
    "- else"
   ]
  },
  {
   "cell_type": "code",
   "execution_count": 6,
   "metadata": {
    "pycharm": {
     "name": "#%%\n"
    }
   },
   "outputs": [
    {
     "name": "stdout",
     "output_type": "stream",
     "text": [
      "good\n",
      "ok\n"
     ]
    }
   ],
   "source": [
    "x = int(input())\n",
    "if 90 <= x <= 100:\n",
    "    print('good')\n",
    "    print('ok')\n",
    "elif 80 <= x < 90:\n",
    "    print('normal')\n",
    "elif 0 <= x < 80:\n",
    "    print('bad')\n",
    "else:\n",
    "    print('error')"
   ]
  },
  {
   "cell_type": "markdown",
   "metadata": {
    "pycharm": {
     "name": "#%% md\n"
    }
   },
   "source": [
    "python 中使用缩进区分语句块\n",
    "\n",
    "类似与C++中使用{}"
   ]
  },
  {
   "cell_type": "markdown",
   "metadata": {
    "pycharm": {
     "name": "#%% md\n"
    }
   },
   "source": [
    "### 循环语句"
   ]
  },
  {
   "cell_type": "code",
   "execution_count": 7,
   "metadata": {
    "pycharm": {
     "name": "#%%\n"
    }
   },
   "outputs": [
    {
     "name": "stdout",
     "output_type": "stream",
     "text": [
      "1\n",
      "2\n",
      "3\n"
     ]
    }
   ],
   "source": [
    "# for 循环\n",
    "for item in '123':\n",
    "    print(item)"
   ]
  },
  {
   "cell_type": "code",
   "execution_count": 8,
   "metadata": {
    "pycharm": {
     "name": "#%%\n"
    }
   },
   "outputs": [
    {
     "name": "stdout",
     "output_type": "stream",
     "text": [
      "12\n",
      "1\n",
      "43\n",
      "[1, 2]\n"
     ]
    }
   ],
   "source": [
    "for item in ['12', 1, 43, [1, 2]]:\n",
    "    print(item)"
   ]
  },
  {
   "cell_type": "code",
   "execution_count": 9,
   "metadata": {
    "pycharm": {
     "name": "#%%\n"
    }
   },
   "outputs": [
    {
     "name": "stdout",
     "output_type": "stream",
     "text": [
      "1\n",
      "b\n"
     ]
    }
   ],
   "source": [
    "for item in {1:'a', 'b':2}:\n",
    "    print(item)"
   ]
  },
  {
   "cell_type": "code",
   "execution_count": 26,
   "metadata": {
    "pycharm": {
     "name": "#%%\n"
    }
   },
   "outputs": [
    {
     "name": "stdout",
     "output_type": "stream",
     "text": [
      "0 2\n",
      "1 sd\n",
      "2 [1, 2]\n",
      "3 None\n"
     ]
    }
   ],
   "source": [
    "x = [2, 'sd', [1, 2], None]\n",
    "for i in range(len(x)):\n",
    "    print(i, x[i])"
   ]
  },
  {
   "cell_type": "code",
   "execution_count": 27,
   "metadata": {
    "pycharm": {
     "name": "#%%\n"
    }
   },
   "outputs": [
    {
     "name": "stdout",
     "output_type": "stream",
     "text": [
      "0 2\n",
      "1 sd\n",
      "2 [1, 2]\n",
      "3 None\n"
     ]
    }
   ],
   "source": [
    "for i, item in enumerate(x):\n",
    "    print(i, item)"
   ]
  },
  {
   "cell_type": "code",
   "execution_count": 30,
   "metadata": {
    "pycharm": {
     "name": "#%%\n"
    }
   },
   "outputs": [
    {
     "name": "stdout",
     "output_type": "stream",
     "text": [
      "0\n",
      "1\n",
      "2\n",
      "3\n",
      "4\n",
      "6\n",
      "7\n",
      "8\n",
      "9\n"
     ]
    }
   ],
   "source": [
    "# continue 与 break\n",
    "for i in range(10):\n",
    "    if i == 5:\n",
    "        continue\n",
    "    print(i)"
   ]
  },
  {
   "cell_type": "code",
   "execution_count": 31,
   "metadata": {
    "pycharm": {
     "name": "#%%\n"
    }
   },
   "outputs": [
    {
     "name": "stdout",
     "output_type": "stream",
     "text": [
      "0\n",
      "1\n",
      "2\n",
      "3\n",
      "4\n"
     ]
    }
   ],
   "source": [
    "for i in range(10):\n",
    "    if i == 5:\n",
    "        break\n",
    "    print(i)"
   ]
  },
  {
   "cell_type": "markdown",
   "metadata": {
    "pycharm": {
     "name": "#%% md\n"
    }
   },
   "source": [
    "### 函数的使用\n",
    "\n",
    "与C++类似，区别在于可以不用指明输入与输出的类型"
   ]
  },
  {
   "cell_type": "code",
   "execution_count": 10,
   "metadata": {
    "pycharm": {
     "name": "#%%\n"
    }
   },
   "outputs": [
    {
     "name": "stdout",
     "output_type": "stream",
     "text": [
      "6\n"
     ]
    }
   ],
   "source": [
    "def add(a, b):\n",
    "    return a + b\n",
    "x = 1\n",
    "y = 5\n",
    "c = add(x, y)\n",
    "print(c)"
   ]
  },
  {
   "cell_type": "markdown",
   "metadata": {
    "pycharm": {
     "name": "#%% md\n"
    }
   },
   "source": [
    "### 值得注意的"
   ]
  },
  {
   "cell_type": "code",
   "execution_count": 11,
   "metadata": {
    "pycharm": {
     "name": "#%%\n"
    }
   },
   "outputs": [
    {
     "name": "stdout",
     "output_type": "stream",
     "text": [
      "4\n"
     ]
    }
   ],
   "source": [
    "def change(x):\n",
    "    x = 6\n",
    "a = 4\n",
    "change(a)\n",
    "print(a)"
   ]
  },
  {
   "cell_type": "code",
   "execution_count": 12,
   "metadata": {
    "pycharm": {
     "name": "#%%\n"
    }
   },
   "outputs": [
    {
     "name": "stdout",
     "output_type": "stream",
     "text": [
      "[1, 2, 3, 4]\n"
     ]
    }
   ],
   "source": [
    "def change(x):\n",
    "    x.append(4)\n",
    "a = [1, 2, 3]\n",
    "change(a)\n",
    "print(a)"
   ]
  },
  {
   "cell_type": "markdown",
   "metadata": {
    "pycharm": {
     "name": "#%% md\n"
    }
   },
   "source": [
    "###异常处理\n",
    "- try\n",
    "- except\n",
    "- else"
   ]
  },
  {
   "cell_type": "code",
   "execution_count": 14,
   "metadata": {
    "pycharm": {
     "name": "#%%\n"
    }
   },
   "outputs": [
    {
     "name": "stdout",
     "output_type": "stream",
     "text": [
      "x 不能为0\n"
     ]
    }
   ],
   "source": [
    "x = int(input())\n",
    "try:\n",
    "    y = 10 / x\n",
    "except:\n",
    "    print('x 不能为0')\n",
    "else:\n",
    "    print(y)"
   ]
  },
  {
   "cell_type": "markdown",
   "metadata": {
    "pycharm": {
     "name": "#%% md\n"
    }
   },
   "source": [
    "### 类的使用"
   ]
  },
  {
   "cell_type": "code",
   "execution_count": 15,
   "metadata": {
    "pycharm": {
     "name": "#%%\n"
    }
   },
   "outputs": [
    {
     "name": "stdout",
     "output_type": "stream",
     "text": [
      "15\n",
      "25\n",
      "25\n"
     ]
    }
   ],
   "source": [
    "class MyBaseClass:\n",
    "    def __init__(self, weight=3):\n",
    "        self.weight = weight\n",
    "    def update(self, x):\n",
    "        self.weight = x\n",
    "    def calculate(self, x):\n",
    "        return self.weight * x\n",
    "\n",
    "c1 = MyBaseClass()\n",
    "ans1 = c1.calculate(5)\n",
    "print(ans1)\n",
    "c1.update(5)\n",
    "ans2 = c1.calculate(5)\n",
    "print(ans2)\n",
    "\n",
    "c2 = MyBaseClass(weight=5)\n",
    "ans3 = c2.calculate(5)\n",
    "print(ans3)"
   ]
  },
  {
   "cell_type": "markdown",
   "metadata": {
    "pycharm": {
     "name": "#%% md\n"
    }
   },
   "source": [
    "### 类的继承"
   ]
  },
  {
   "cell_type": "code",
   "execution_count": 16,
   "metadata": {
    "pycharm": {
     "name": "#%%\n"
    }
   },
   "outputs": [
    {
     "name": "stdout",
     "output_type": "stream",
     "text": [
      "24\n",
      "32\n"
     ]
    }
   ],
   "source": [
    "class MyClass(MyBaseClass):\n",
    "    def __init__(self, weight=3, new_weight=4):\n",
    "        super().__init__()\n",
    "        self.weight2 = new_weight\n",
    "    def calculate(self, x):\n",
    "        tmp = super().calculate(x)\n",
    "        return tmp * self.weight2\n",
    "c1 = MyClass()\n",
    "ans1 = c1.calculate(2)\n",
    "print(ans1)\n",
    "c1.update(4)\n",
    "ans2 = c1.calculate(2)\n",
    "print(ans2)"
   ]
  },
  {
   "cell_type": "markdown",
   "metadata": {
    "pycharm": {
     "name": "#%% md\n"
    }
   },
   "source": [
    "### 字符串操作"
   ]
  },
  {
   "cell_type": "code",
   "execution_count": 1,
   "metadata": {
    "pycharm": {
     "name": "#%%\n"
    }
   },
   "outputs": [
    {
     "name": "stdout",
     "output_type": "stream",
     "text": [
      "123234\n"
     ]
    }
   ],
   "source": [
    "x = '123'\n",
    "y = '234'\n",
    "print(x + y)\n"
   ]
  },
  {
   "cell_type": "code",
   "execution_count": 4,
   "metadata": {
    "pycharm": {
     "name": "#%%\n"
    }
   },
   "outputs": [
    {
     "name": "stdout",
     "output_type": "stream",
     "text": [
      "['123124', '23445', '345436']\n",
      "['1', '234', ' 5345', '645', '4 56', '76567']\n"
     ]
    }
   ],
   "source": [
    "x = '123124 23445\\n345436'\n",
    "print(x.split())\n",
    "y = '1,234, 5345,645,4 56,76567'\n",
    "print(y.split(','))"
   ]
  },
  {
   "cell_type": "code",
   "execution_count": 5,
   "metadata": {
    "pycharm": {
     "name": "#%%\n"
    }
   },
   "outputs": [
    {
     "name": "stdout",
     "output_type": "stream",
     "text": [
      "lud.txt\n"
     ]
    }
   ],
   "source": [
    "x = 'lud.json'\n",
    "x = x.replace('.json', '.txt')\n",
    "print(x)"
   ]
  },
  {
   "cell_type": "code",
   "execution_count": 7,
   "metadata": {
    "pycharm": {
     "name": "#%%\n"
    }
   },
   "outputs": [
    {
     "name": "stdout",
     "output_type": "stream",
     "text": [
      "0\n",
      "0\n",
      "-1\n"
     ]
    }
   ],
   "source": [
    "x = 'https://127.0.0.1:1234'\n",
    "y = 'http://www.baidu.com'\n",
    "z = 'rqfg34tfsgwe'\n",
    "print(x.find('http'))\n",
    "print(y.find('http'))\n",
    "print(z.find('http'))"
   ]
  },
  {
   "cell_type": "code",
   "execution_count": null,
   "metadata": {
    "pycharm": {
     "name": "#%%\n"
    }
   },
   "outputs": [],
   "source": []
  }
 ],
 "metadata": {
  "kernelspec": {
   "display_name": "Python [conda env:python38] *",
   "language": "python",
   "name": "conda-env-python38-py"
  },
  "language_info": {
   "codemirror_mode": {
    "name": "ipython",
    "version": 3
   },
   "file_extension": ".py",
   "mimetype": "text/x-python",
   "name": "python",
   "nbconvert_exporter": "python",
   "pygments_lexer": "ipython3",
   "version": "3.8.10"
  }
 },
 "nbformat": 4,
 "nbformat_minor": 1
}